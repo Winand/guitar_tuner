{
 "cells": [
  {
   "cell_type": "code",
   "execution_count": 3,
   "source": [
    "%matplotlib ipympl\r\n",
    "import scipy.io.wavfile\r\n",
    "import matplotlib.pyplot as plt\r\n",
    "import numpy as np\r\n",
    "from scipy.fftpack import fft\r\n",
    "\r\n",
    "sampleFreq, myRecording = scipy.io.wavfile.read(\"example1.wav\")\r\n",
    "sampleDur = len(myRecording)/sampleFreq\r\n",
    "timeX = np.arange(0, sampleFreq/2, sampleFreq/len(myRecording))\r\n",
    "absFreqSpectrum = abs(fft(myRecording))\r\n",
    "print(absFreqSpectrum)\r\n",
    "\r\n",
    "plt.plot(timeX, absFreqSpectrum[:len(myRecording)//2])\r\n",
    "plt.ylabel('|X(n)|')\r\n",
    "plt.xlabel('frequency[Hz]')\r\n",
    "plt.show()"
   ],
   "outputs": [
    {
     "output_type": "stream",
     "name": "stdout",
     "text": [
      "[28.97344971 33.26202895 33.3118506  ... 33.24600449 33.3118506\n",
      " 33.26202895]\n"
     ]
    },
    {
     "output_type": "display_data",
     "data": {
      "text/plain": [
       "Canvas(toolbar=Toolbar(toolitems=[('Home', 'Reset original view', 'home', 'home'), ('Back', 'Back to previous …"
      ],
      "application/vnd.jupyter.widget-view+json": {
       "version_major": 2,
       "version_minor": 0,
       "model_id": "0fb47f7eb32c4858811843f040215f8c"
      }
     },
     "metadata": {}
    }
   ],
   "metadata": {}
  },
  {
   "cell_type": "code",
   "execution_count": null,
   "source": [],
   "outputs": [],
   "metadata": {}
  }
 ],
 "metadata": {
  "orig_nbformat": 4,
  "language_info": {
   "name": "python"
  }
 },
 "nbformat": 4,
 "nbformat_minor": 2
}